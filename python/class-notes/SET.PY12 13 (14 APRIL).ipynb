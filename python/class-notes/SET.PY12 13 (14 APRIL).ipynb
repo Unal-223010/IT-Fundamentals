{
 "cells": [
  {
   "cell_type": "markdown",
   "metadata": {},
   "source": [
    "COLLECTION TYPES - SET( KUMELER )  : Setlerin icerisinde tekrara izin yoktur.Tekrar edenleri atip uniq degerleri bize verir.Bir coklu veri toplugugu icerisinde sadece uniq degeleri almak istersek SET() func. kullanabiliriz.Matematiksel kume islemlerini set'lerde yapabiliriz( union , intersection , difference ) . Yazdigimiz sirada cikti vermez ( UNORDERED'DIR.). Hangi sırayla dahil edildiklerinin değil, yalnızca bazı şeylerin bir arada gruplandırılmasının önemli olduğu durumlarda kullanılırlar.\n",
    "\n",
    "    Set items are \n",
    "    - unordered : Unordered means that the items in a set do not have a defined order.Set items can appear in a different order every time you use them, and cannot be referred to by index or key\n",
    "    \n",
    "    - unchangeable : Once a set is created, you cannot change its items, but you can add new items. \n",
    "    \n",
    "    - do not allow duplicate values : Sets cannot have two items with the same value.\n",
    "    \n",
    "    - Once a set is created, you cannot change its items, but you can add new items.\n",
    "\n",
    "\n",
    "\n",
    "    Creating a Set : BOS BIR SET SADECE set() fonksiyonu ile olusturulur.\n",
    "    \n",
    "    Curly braces '{}' or the set() function can be used to create sets. But the only way to create an empty set is: use the set() function.\n",
    "\n",
    "    ⚠️Avoid ! :\n",
    "    Note that, to create an empty set you have to use set() function. Do not use {} to create an empty set. Otherwise, you will create an empty dictionary.\n",
    "    \n",
    "    \n",
    "    https://www.w3schools.com/python/python_sets.asp\n",
    "    \n",
    "    https://www.learnpython.org/en/Sets\n",
    "\n"
   ]
  },
  {
   "cell_type": "markdown",
   "metadata": {},
   "source": [
    "add() Adds an element to the set\n",
    "clear() Removes all the elements from the set\n",
    "copy()\tReturns a copy of the set\n",
    "difference()\tReturns a set containing the difference between two or more sets\n",
    "difference_update()\tRemoves the items in this set that are also included in another, specified set\n",
    "discard()\tRemove the specified item\n",
    "intersection()\tReturns a set, that is the intersection of two other sets\n",
    "intersection_update()\tRemoves the items in this set that are not present in other, specified set(s)\n",
    "isdisjoint()\tReturns whether two sets have a intersection or not\n",
    "issubset()\tReturns whether another set contains this set or not\n",
    "issuperset()\tReturns whether this set contains another set or not\n",
    "pop()\tRemoves an element from the set\n",
    "remove()\tRemoves the specified element\n",
    "symmetric_difference()\tReturns a set with the symmetric differences of two sets\n",
    "symmetric_difference_update()\tinserts the symmetric differences from this set and another\n",
    "union()\tReturn a set containing the union of sets\n",
    "update()\tUpdate the set with the union of this set and others"
   ]
  },
  {
   "cell_type": "code",
   "execution_count": 1,
   "metadata": {},
   "outputs": [
    {
     "data": {
      "text/plain": [
       "set()"
      ]
     },
     "execution_count": 1,
     "metadata": {},
     "output_type": "execute_result"
    }
   ],
   "source": [
    "empty_set = set()\n",
    "empty_set"
   ]
  },
  {
   "cell_type": "code",
   "execution_count": 2,
   "metadata": {},
   "outputs": [
    {
     "name": "stdout",
     "output_type": "stream",
     "text": [
      "<class 'set'>\n"
     ]
    }
   ],
   "source": [
    "print(type(empty_set))"
   ]
  },
  {
   "cell_type": "code",
   "execution_count": 3,
   "metadata": {},
   "outputs": [
    {
     "name": "stdout",
     "output_type": "stream",
     "text": [
      "{'orange', 'red', 'yellow', 'purple', 'darkblue'}\n",
      "{'orange', 'red', 'yellow', 'purple', 'darkblue'}\n"
     ]
    }
   ],
   "source": [
    "colorset = {'purple', 'orange', 'red', 'darkblue', 'yellow', 'red'}\n",
    "\n",
    "print(colorset)\n",
    "print(colorset)\n"
   ]
  },
  {
   "cell_type": "code",
   "execution_count": 4,
   "metadata": {},
   "outputs": [
    {
     "name": "stdout",
     "output_type": "stream",
     "text": [
      "{'u', 's', 'e', 'f', 'i', 'n', 'l', 'h'}\n"
     ]
    }
   ],
   "source": [
    "# Sadece uniq olan degerleri aldi.Ve set() fnk iterable olan degerleri alir.Icerigine tuple'da yazilabilir.\n",
    "s = set('unselfishness')\n",
    "\n",
    "print(s) "
   ]
  },
  {
   "cell_type": "code",
   "execution_count": 5,
   "metadata": {},
   "outputs": [
    {
     "name": "stdout",
     "output_type": "stream",
     "text": [
      "<class 'tuple'>\n",
      "{1, 2, 3, 4, 14, 15}\n",
      "<class 'set'>\n"
     ]
    }
   ],
   "source": [
    "g = 1,2,3,1,1,3,4,14,15\n",
    "print(type(g))\n",
    "h = set(g)\n",
    "print(h, type(h), sep = \"\\n\")"
   ]
  },
  {
   "cell_type": "code",
   "execution_count": 6,
   "metadata": {},
   "outputs": [
    {
     "name": "stdout",
     "output_type": "stream",
     "text": [
      "{'carnation', 'orchid', 'rose', 'violet'}\n",
      "['carnation', 'orchid', 'rose', 'violet']\n"
     ]
    }
   ],
   "source": [
    "flower_list = ['rose', 'violet', 'carnation', 'rose', 'orchid', 'rose', 'orchid']\n",
    "flowerset = set(flower_list)\n",
    "flowerlist = list(flowerset)\n",
    "\n",
    "print(flowerset) \n",
    "print(flowerlist)"
   ]
  },
  {
   "cell_type": "code",
   "execution_count": 8,
   "metadata": {},
   "outputs": [
    {
     "name": "stdout",
     "output_type": "stream",
     "text": [
      "{'apple', 'banana', 'cherry'}\n",
      "{1, 3, 5, 7, 9}\n",
      "{False, True}\n"
     ]
    }
   ],
   "source": [
    "set1 = {\"apple\", \"banana\", \"cherry\"}\n",
    "set2 = {1, 5, 7, 9, 3}\n",
    "set3 = {True, False, False}\n",
    "print(set1, set2, set3, sep = \"\\n\")"
   ]
  },
  {
   "cell_type": "code",
   "execution_count": 12,
   "metadata": {},
   "outputs": [
    {
     "name": "stdout",
     "output_type": "stream",
     "text": [
      "5\n"
     ]
    }
   ],
   "source": [
    "# A set can contain different data type\n",
    "set4 = {\"abc\", 34, True, 40, \"male\"}\n",
    "set4\n",
    "print(len(set4))"
   ]
  },
  {
   "cell_type": "code",
   "execution_count": 16,
   "metadata": {},
   "outputs": [
    {
     "ename": "TypeError",
     "evalue": "unhashable type: 'list'",
     "output_type": "error",
     "traceback": [
      "\u001b[0;31m---------------------------------------------------------------------------\u001b[0m",
      "\u001b[0;31mTypeError\u001b[0m                                 Traceback (most recent call last)",
      "\u001b[0;32m<ipython-input-16-e279be15b2d8>\u001b[0m in \u001b[0;36m<module>\u001b[0;34m\u001b[0m\n\u001b[0;32m----> 1\u001b[0;31m \u001b[0mset\u001b[0m\u001b[0;34m(\u001b[0m\u001b[0;34m[\u001b[0m\u001b[0;34m[\u001b[0m\u001b[0;36m1\u001b[0m\u001b[0;34m,\u001b[0m\u001b[0;36m2\u001b[0m\u001b[0;34m]\u001b[0m\u001b[0;34m,\u001b[0m\u001b[0;34m[\u001b[0m\u001b[0;36m3\u001b[0m\u001b[0;34m,\u001b[0m\u001b[0;36m4\u001b[0m\u001b[0;34m]\u001b[0m\u001b[0;34m,\u001b[0m\u001b[0;34m[\u001b[0m\u001b[0;36m4\u001b[0m\u001b[0;34m,\u001b[0m\u001b[0;36m5\u001b[0m\u001b[0;34m]\u001b[0m\u001b[0;34m]\u001b[0m\u001b[0;34m)\u001b[0m\u001b[0;34m\u001b[0m\u001b[0;34m\u001b[0m\u001b[0m\n\u001b[0m",
      "\u001b[0;31mTypeError\u001b[0m: unhashable type: 'list'"
     ]
    }
   ],
   "source": [
    "set([[1,2],[3,4],[4,5]])"
   ]
  },
  {
   "cell_type": "code",
   "execution_count": 17,
   "metadata": {},
   "outputs": [
    {
     "data": {
      "text/plain": [
       "{1, 2, 3, 4, 5}"
      ]
     },
     "execution_count": 17,
     "metadata": {},
     "output_type": "execute_result"
    }
   ],
   "source": [
    "set([1,2,2,3,4,5])"
   ]
  },
  {
   "cell_type": "code",
   "execution_count": 18,
   "metadata": {},
   "outputs": [
    {
     "data": {
      "text/plain": [
       "{1, 2, 3, 4}"
      ]
     },
     "execution_count": 18,
     "metadata": {},
     "output_type": "execute_result"
    }
   ],
   "source": [
    "set((1,2,3,4))"
   ]
  },
  {
   "cell_type": "code",
   "execution_count": 19,
   "metadata": {},
   "outputs": [
    {
     "data": {
      "text/plain": [
       "['a',\n",
       " 'b',\n",
       " 'c',\n",
       " 'd',\n",
       " 'e',\n",
       " 'f',\n",
       " 'g',\n",
       " 'h',\n",
       " 'i',\n",
       " 'j',\n",
       " 'k',\n",
       " 'l',\n",
       " 'm',\n",
       " 'o',\n",
       " 'p',\n",
       " 'r',\n",
       " 's',\n",
       " 't',\n",
       " 'u',\n",
       " 'v',\n",
       " 'y',\n",
       " 'z']"
      ]
     },
     "execution_count": 19,
     "metadata": {},
     "output_type": "execute_result"
    }
   ],
   "source": [
    "letter = \"a b c d e f g h i j k l m o p r s t u v y z\".split()\n",
    "letter"
   ]
  },
  {
   "cell_type": "code",
   "execution_count": 20,
   "metadata": {},
   "outputs": [
    {
     "name": "stdout",
     "output_type": "stream",
     "text": [
      "{'z', 'd', 'p', 'o', 'b', 'm', 'k', 's', 'a', 'u', 'f', 'j', 'l', 'c', 'y', 'e', 'i', 'g', 'r', 't', 'v', 'h'}\n"
     ]
    }
   ],
   "source": [
    "print(set(letter))"
   ]
  },
  {
   "cell_type": "code",
   "execution_count": 21,
   "metadata": {},
   "outputs": [
    {
     "data": {
      "text/plain": [
       "{1, 'bir'}"
      ]
     },
     "execution_count": 21,
     "metadata": {},
     "output_type": "execute_result"
    }
   ],
   "source": [
    "kume = [1, \"bir\", 1.0]\n",
    "set_kume = set(kume)\n",
    "set_kume                   # Int 1 ve float 1.0 AYNI OLDUGU ICIN BIRINI ALIR."
   ]
  },
  {
   "cell_type": "code",
   "execution_count": 22,
   "metadata": {},
   "outputs": [
    {
     "data": {
      "text/plain": [
       "set()"
      ]
     },
     "execution_count": 22,
     "metadata": {},
     "output_type": "execute_result"
    }
   ],
   "source": [
    "bos_kume = set()\n",
    "bos_kume"
   ]
  },
  {
   "cell_type": "code",
   "execution_count": 26,
   "metadata": {},
   "outputs": [
    {
     "name": "stdout",
     "output_type": "stream",
     "text": [
      "{'a', 'e', 'd', 'p', 'i', 'l', 'h'}\n",
      "7\n",
      "{'d', 'p', 'i', 'n', 'o', 'l', 'h'}\n",
      "7\n"
     ]
    }
   ],
   "source": [
    "a = set(\"philadelphia\")\n",
    "b = set(\"dolphin\")\n",
    "print(a, len(a), b, len(b), sep= '\\n')"
   ]
  },
  {
   "cell_type": "code",
   "execution_count": 27,
   "metadata": {},
   "outputs": [
    {
     "data": {
      "text/plain": [
       "False"
      ]
     },
     "execution_count": 27,
     "metadata": {},
     "output_type": "execute_result"
    }
   ],
   "source": [
    "a == b"
   ]
  },
  {
   "cell_type": "code",
   "execution_count": 28,
   "metadata": {},
   "outputs": [
    {
     "name": "stdout",
     "output_type": "stream",
     "text": [
      "13\n"
     ]
    }
   ],
   "source": [
    "print(len(set('listen to the voice of enlisted')))"
   ]
  },
  {
   "cell_type": "code",
   "execution_count": 65,
   "metadata": {},
   "outputs": [
    {
     "name": "stdout",
     "output_type": "stream",
     "text": [
      "{'1', '4', '2', '3', '0', '/'} \n",
      " 6 \n",
      " <class 'set'>\n"
     ]
    }
   ],
   "source": [
    "tt = set(\"04/14/2031\")\n",
    "print(tt, len(tt), type(tt), sep = \" \\n \")\n"
   ]
  },
  {
   "cell_type": "code",
   "execution_count": 64,
   "metadata": {},
   "outputs": [
    {
     "name": "stdout",
     "output_type": "stream",
     "text": [
      "{'04/14/2021'} \n",
      " 1 \n",
      " <class 'set'>\n"
     ]
    }
   ],
   "source": [
    "tarih = {\"04/14/2021\"}\n",
    "print(tarih, len(tarih), type(tarih), sep = \" \\n \")"
   ]
  },
  {
   "cell_type": "code",
   "execution_count": null,
   "metadata": {},
   "outputs": [],
   "source": []
  },
  {
   "cell_type": "code",
   "execution_count": null,
   "metadata": {},
   "outputs": [],
   "source": []
  },
  {
   "cell_type": "code",
   "execution_count": null,
   "metadata": {},
   "outputs": [],
   "source": []
  },
  {
   "cell_type": "markdown",
   "metadata": {},
   "source": [
    " SET METODLARI "
   ]
  },
  {
   "cell_type": "code",
   "execution_count": 29,
   "metadata": {},
   "outputs": [
    {
     "name": "stdout",
     "output_type": "stream",
     "text": [
      "{'e', 'a'}\n",
      "{'e', 'a'}\n"
     ]
    }
   ],
   "source": [
    "print(a - b)\n",
    "print(a.difference(b)) # A kumesini B kumesinden farkini aliriz."
   ]
  },
  {
   "cell_type": "code",
   "execution_count": 30,
   "metadata": {},
   "outputs": [
    {
     "name": "stdout",
     "output_type": "stream",
     "text": [
      "{'n', 'o'}\n",
      "{'n', 'o'}\n"
     ]
    }
   ],
   "source": [
    "print(b - a)\n",
    "print(b.difference(a)) # B kumesinin B kumesinden farkini aliriz."
   ]
  },
  {
   "cell_type": "code",
   "execution_count": 31,
   "metadata": {},
   "outputs": [
    {
     "name": "stdout",
     "output_type": "stream",
     "text": [
      "{'a', 'e', 'd', 'p', 'i', 'n', 'o', 'l', 'h'}\n",
      "{'a', 'e', 'd', 'p', 'i', 'n', 'o', 'l', 'h'}\n"
     ]
    }
   ],
   "source": [
    "print(a | b)\n",
    "print(a.union(b)) # Iki kumenin birlesimini bize verir."
   ]
  },
  {
   "cell_type": "code",
   "execution_count": 32,
   "metadata": {},
   "outputs": [
    {
     "name": "stdout",
     "output_type": "stream",
     "text": [
      "{'a', 'e', 'd', 'p', 'i', 'n', 'o', 'l', 'h'}\n",
      "{'a', 'e', 'd', 'p', 'i', 'n', 'o', 'l', 'h'}\n"
     ]
    }
   ],
   "source": [
    "print(b | a)\n",
    "print(b.union(a))"
   ]
  },
  {
   "cell_type": "code",
   "execution_count": 33,
   "metadata": {},
   "outputs": [
    {
     "data": {
      "text/plain": [
       "True"
      ]
     },
     "execution_count": 33,
     "metadata": {},
     "output_type": "execute_result"
    }
   ],
   "source": [
    "a | b == b | a"
   ]
  },
  {
   "cell_type": "code",
   "execution_count": 43,
   "metadata": {},
   "outputs": [
    {
     "name": "stdout",
     "output_type": "stream",
     "text": [
      "{'d', 'p', 'i', 'l', 'h'}\n",
      "{'d', 'p', 'i', 'l', 'h'}\n"
     ]
    }
   ],
   "source": [
    "print(a & b)\n",
    "print(a.intersection(b))  # A ve B kumesinin kesisimini bize verir.\n"
   ]
  },
  {
   "cell_type": "code",
   "execution_count": 44,
   "metadata": {},
   "outputs": [
    {
     "name": "stdout",
     "output_type": "stream",
     "text": [
      "{'d', 'p', 'i', 'l', 'h'}\n",
      "{'d', 'p', 'i', 'l', 'h'}\n"
     ]
    }
   ],
   "source": [
    "print(b & a)\n",
    "print(b.intersection(a))"
   ]
  },
  {
   "cell_type": "code",
   "execution_count": 45,
   "metadata": {},
   "outputs": [
    {
     "data": {
      "text/plain": [
       "True"
      ]
     },
     "execution_count": 45,
     "metadata": {},
     "output_type": "execute_result"
    }
   ],
   "source": [
    "a & b == b & a"
   ]
  },
  {
   "cell_type": "code",
   "execution_count": 55,
   "metadata": {},
   "outputs": [
    {
     "data": {
      "text/plain": [
       "{'d', 'h', 'i', 'l', 'n', 'o', 'p'}"
      ]
     },
     "execution_count": 55,
     "metadata": {},
     "output_type": "execute_result"
    }
   ],
   "source": [
    "yy = a and b\n",
    "yy"
   ]
  },
  {
   "cell_type": "code",
   "execution_count": 56,
   "metadata": {},
   "outputs": [
    {
     "data": {
      "text/plain": [
       "{'a', 'd', 'e', 'h', 'i', 'l', 'p'}"
      ]
     },
     "execution_count": 56,
     "metadata": {},
     "output_type": "execute_result"
    }
   ],
   "source": [
    "hh = b and a\n",
    "hh"
   ]
  },
  {
   "cell_type": "code",
   "execution_count": 57,
   "metadata": {},
   "outputs": [
    {
     "data": {
      "text/plain": [
       "False"
      ]
     },
     "execution_count": 57,
     "metadata": {},
     "output_type": "execute_result"
    }
   ],
   "source": [
    "yy == hh "
   ]
  },
  {
   "cell_type": "code",
   "execution_count": null,
   "metadata": {},
   "outputs": [],
   "source": []
  }
 ],
 "metadata": {
  "kernelspec": {
   "display_name": "Python 3",
   "language": "python",
   "name": "python3"
  },
  "language_info": {
   "codemirror_mode": {
    "name": "ipython",
    "version": 3
   },
   "file_extension": ".py",
   "mimetype": "text/x-python",
   "name": "python",
   "nbconvert_exporter": "python",
   "pygments_lexer": "ipython3",
   "version": "3.8.5"
  }
 },
 "nbformat": 4,
 "nbformat_minor": 4
}
