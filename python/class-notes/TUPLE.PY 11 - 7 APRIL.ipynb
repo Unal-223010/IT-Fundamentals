{
 "cells": [
  {
   "cell_type": "markdown",
   "metadata": {},
   "source": [
    "     COLLECTION TYPES - TUPLES : Collections type'lar iterable olan verileri alir. Iterable olmayanlari ceviremezler.\n",
    "     \n",
    "     Immuteabledir tuplelar.Yani remove vb . metodlar tuplerde kullanilmaz. Fakat tuple icindeki elemanlara erisim saglayarak onlari degistirebiliriz , bu tuple'i degistirmek anlamini tasimaz.Genelde degistirilmesini istemedigimiz  IP No., password , port num. gibi bilgileri sakladigimiz veri tiplerdir. Eger bunlari degistirmek istersek onlara ulasip tuple icerisinden cikararak farkli bir create etmemiz gerekir. Tuple'larda yanlislak degisiklik yapilmaz.Listelere gore daha hizlidirlar cunku listeler gibi arka planda calisan fonksiyonlari yoktur. Datalarimiz tuplerla guvendedir.\n",
    "     \n",
    "     -DEFINITIONS\n",
    "     -CREATING A TUPLE  ( VIRGULU UNUTMA TEK ELEMANLI TUPLE OLUSTURURKEN ) \n",
    "     -HOW CAN WE USE A TUPLE\n",
    " \n",
    "     TUPLES : A tuple is a collection which is ordered and unchangeable.\n",
    "\n",
    "        1.)Tuples are written with round brackets.\n",
    "        \n",
    "        2.)Tuple items are ordered, unchangeable, and allow duplicate values.\n",
    "\n",
    "        3.)Tuple items are indexed, the first item has index [0], the second item has index [1].\n",
    "        \n",
    "        4.)Tuples are unchangeable, meaning that we cannot change, add or remove items after the tuple has been created.\n",
    "\n",
    "        5.)Allow Duplicates = Since tuple are indexed, tuples can have items with the same value\n",
    "        \n",
    "        6.)To determine how many items a tuple has, use the len() function:\n",
    "\n",
    "        7.)To create a tuple with only one item, you have to add a comma after the item, otherwise Python will not recognize it as a tuple.\n",
    "        \n",
    "        8.) From Python's perspective, tuples are defined as objects with the data type 'tuple'\n",
    "        \n",
    "        9.) It is also possible to use the tuple() constructor to make a tuple.\n",
    "        \n",
    "        10. ) The same indexing rules for lists also apply to tuples. Tuples can also be nested and the values can be any valid Python valid.\n",
    "        \n",
    "        11.) The del keyword can delete the tuple completely **\n",
    "        \n",
    "        \n",
    "    EKSTRA BILGILER ICIN = https://www.w3schools.com/python/python_tuples.asp\n",
    "                            \n",
    "                           "
   ]
  },
  {
   "cell_type": "markdown",
   "metadata": {},
   "source": [
    "Q: What is the difference between list and tuple?\n",
    "\n",
    "A:\n",
    "LISTs :\n",
    "Lists are mutable i.e they can be edited.\n",
    "Lists are slower than tuples.\n",
    "Syntax: list_1 = [True, ‘Space’, 20]\n",
    "\n",
    "TUPLEs :\n",
    "Tuples are immutable (tuples are lists which can’t be edited).\n",
    "Tuples are faster than list.\n",
    "Syntax: tup_1 = (True, ‘Space’ , 20)\n",
    "\n",
    "\n",
    "    Advantages of Tuple over List\n",
    "\n",
    "        Since tuples are quite similar to lists, both of them are used in similar situations. However, there are certain advantages of implementing a tuple over a list. Below listed are some of the main advantages:\n",
    "\n",
    "    - We generally use tuples for heterogeneous (different) data types and lists for homogeneous (similar) data types.\n",
    "    - Since tuples are immutable, iterating through a tuple is faster than with list. So there is a slight performance boost.\n",
    "    - Tuples that contain immutable elements can be used as a key for a dictionary. With lists, this is not possible.\n",
    "    - If you have data that doesn't change, implementing it as tuple will guarantee that it remains write-protected."
   ]
  },
  {
   "cell_type": "code",
   "execution_count": null,
   "metadata": {},
   "outputs": [],
   "source": [
    "import sys  # Sys modulunu import ederek tuple ve liste veri tipleri arasindaki kapladigi memory alanini kontrol ediyouruz.\n"
   ]
  },
  {
   "cell_type": "code",
   "execution_count": null,
   "metadata": {},
   "outputs": [],
   "source": [
    "x = [1,2,3]\n",
    "y = (1,2,3)"
   ]
  },
  {
   "cell_type": "code",
   "execution_count": null,
   "metadata": {},
   "outputs": [],
   "source": [
    "print(sys.getsizeof(x))\n",
    "print(sys.getsizeof(y))   # Byte cinsindedir !!"
   ]
  },
  {
   "cell_type": "markdown",
   "metadata": {},
   "source": [
    "     Creating Tuple : VIRGULU UNUTMA TEK ELEMANLI TUPLE OLUSTURURKEN . Ve phytonda parantezi olmayan degiskenler \n",
    "                  tple olarak algilanir. \n",
    "            \n",
    "                - tuple() ile tple create edebiliriz.\n",
    "                - empty_tuple = ()\n",
    "                - empty_tuple_1 = tuple()\n",
    "    "
   ]
  },
  {
   "cell_type": "code",
   "execution_count": null,
   "metadata": {},
   "outputs": [],
   "source": [
    "x = 1,2,3\n",
    "print(type(x))   \n",
    "x                  # Phyton otomatik parantezi olmayan verileri parantez icine alir."
   ]
  },
  {
   "cell_type": "code",
   "execution_count": null,
   "metadata": {},
   "outputs": [],
   "source": [
    "y = \"ali\",\n",
    "print(type(y))\n",
    "y"
   ]
  },
  {
   "cell_type": "code",
   "execution_count": null,
   "metadata": {},
   "outputs": [],
   "source": [
    "z = \"ali\", 1 , False, \"23\", [1,2,3]\n",
    "print(type(z))\n",
    "z"
   ]
  },
  {
   "cell_type": "code",
   "execution_count": null,
   "metadata": {},
   "outputs": [],
   "source": [
    "v = \"ali\"      # Sonunda virgul olmadigi icin str typedir.\n",
    "print(type(v))"
   ]
  },
  {
   "cell_type": "code",
   "execution_count": null,
   "metadata": {},
   "outputs": [],
   "source": [
    "tuple_1 = ('h','a','p','p','y')\n",
    "word = 'happy'\n",
    "tuple_2 = tuple(word)\n",
    "print(tuple_1)\n",
    "print(tuple_2)"
   ]
  },
  {
   "cell_type": "code",
   "execution_count": null,
   "metadata": {},
   "outputs": [],
   "source": [
    "ls = ['x','y','z'] # Yeni bir liste olusturup onu tuple fnk ile tuple'a ceviriyoruz.\n",
    "tp = tuple(ls)\n",
    "tp\n"
   ]
  },
  {
   "cell_type": "code",
   "execution_count": null,
   "metadata": {},
   "outputs": [],
   "source": [
    "tt = 1,2,3\n",
    "tt\n",
    "print(type(tt))\n",
    "ll = list(tt)      # TUPLE VERI TIPINI LIST FONKSINU ILE LISTEYE CEVIRDIK.\n",
    "ll\n",
    "print(type(ll))"
   ]
  },
  {
   "cell_type": "code",
   "execution_count": null,
   "metadata": {},
   "outputs": [],
   "source": [
    "mountain = tuple('ALPS')\n",
    "print(mountain)"
   ]
  },
  {
   "cell_type": "code",
   "execution_count": null,
   "metadata": {},
   "outputs": [],
   "source": [
    "empty = ()\n",
    "singleton = 'hello',    # <-- note trailing comma\n",
    "len(empty)\n",
    "0\n",
    "len(singleton)\n",
    "1\n",
    "singleton\n"
   ]
  },
  {
   "cell_type": "code",
   "execution_count": null,
   "metadata": {},
   "outputs": [],
   "source": [
    "new = tuple(range(1,10))\n",
    "print(new, type(new), sep = \"\\n\")"
   ]
  },
  {
   "cell_type": "code",
   "execution_count": null,
   "metadata": {},
   "outputs": [],
   "source": [
    "del new"
   ]
  },
  {
   "cell_type": "code",
   "execution_count": null,
   "metadata": {},
   "outputs": [],
   "source": [
    "print(new) # Hata aldik , cunku bir onceki hucrede del ile tuple sildik."
   ]
  },
  {
   "cell_type": "markdown",
   "metadata": {},
   "source": [
    "    Unpacking a Tuple\n",
    "\n",
    "    When we create a tuple, we normally assign values to it. This is called \"packing\" a tuple\n",
    "    But, in Python, we are also allowed to extract the values back into variables. This is called \"unpacking\"\n",
    "\n",
    "     Note: The number of variables must match the number of values in the tuple, if not, you must use an asterix to collect the remaining values as a list.\n",
    "\n"
   ]
  },
  {
   "cell_type": "code",
   "execution_count": null,
   "metadata": {},
   "outputs": [],
   "source": [
    "fruits = (\"apple\", \"banana\", \"cherry\")  # Packing tuple\n",
    "fruits\n"
   ]
  },
  {
   "cell_type": "code",
   "execution_count": null,
   "metadata": {},
   "outputs": [],
   "source": [
    "fruits = (\"apple\", \"banana\", \"cherry\")  # Unpacking tuple\n",
    "\n",
    "(green, yellow, red) = fruits           # Birden fazla atamanın gerçekten sadece demet paketleme ve sıralı paket \n",
    "                                        # açma kombinasyonu olduğunu unutmayın.\n",
    "\n",
    "print(green)\n",
    "print(yellow)\n",
    "print(red)"
   ]
  },
  {
   "cell_type": "code",
   "execution_count": null,
   "metadata": {
    "scrolled": true
   },
   "outputs": [],
   "source": [
    "mix_value_tuple = (0, 'bird', 3.14, True)\n",
    "\n",
    "print(len(mix_value_tuple))"
   ]
  },
  {
   "cell_type": "markdown",
   "metadata": {},
   "source": [
    "    INDEKSLEME VE SLICING : Tuplelarda da indeksleme ve slicing islemini sonucunda bize gene tuple type veri dondurur. Ama slicing islemi esnasinda tuple icindeki bir listeye ulasip slicing islemine devam ederek bu sefer liste uzerinde slicing yapiyor oluruz ve bu sefer return olan type list olur , ayni durum string icinde gecerlidir. Tuplelarda negatif indeksleme vardir."
   ]
  },
  {
   "cell_type": "code",
   "execution_count": null,
   "metadata": {},
   "outputs": [],
   "source": [
    "mix_tuple = 11, \"11\", [2, 'two', (\"six\", 6)], (5, 'Fair')\n",
    "str_six = mix_tuple[2][1:3]\n",
    "print(str_six, type(str_six), len(mix_tuple), len(str_six), sep = '\\n')"
   ]
  },
  {
   "cell_type": "code",
   "execution_count": null,
   "metadata": {},
   "outputs": [],
   "source": [
    "# UPDATE TUPLES WITH INDEKS\n",
    "mix_tuple[2].append(\"Clarusway\") # Indeksleme sonucu listeye ulastigim icin su an listenin icindeki degerleri degstrdim."
   ]
  },
  {
   "cell_type": "code",
   "execution_count": null,
   "metadata": {},
   "outputs": [],
   "source": [
    "mix_tuple # Tuple'in icindeki listeyi degistirdigimiz icin tuplemizda degismis olabilir."
   ]
  },
  {
   "cell_type": "code",
   "execution_count": null,
   "metadata": {},
   "outputs": [],
   "source": [
    "even_no = (0, 2, 4)  # Tuplelarda indeksleme .ACCESS TUPLE\n",
    "print(even_no[0])    \n",
    "print(even_no[1])    \n",
    "print(even_no[2])   \n",
    "print(even_no[3])  "
   ]
  },
  {
   "cell_type": "code",
   "execution_count": null,
   "metadata": {},
   "outputs": [],
   "source": [
    "city_list = ['Tokyo', 'Istanbul', 'Moskow', 'Dublin']\n",
    "\n",
    "city_list[0] = 'Athens'\n",
    "city_list[1] = 'Cairo'\n",
    "print(city_list)"
   ]
  },
  {
   "cell_type": "code",
   "execution_count": null,
   "metadata": {},
   "outputs": [],
   "source": [
    "city_list = ['Tokyo', 'Istanbul', 'Moskow', 'Dublin']\n",
    "\n",
    "city_tuple = tuple(city_list) # Tuplelar olusturulduktan sonra degerleri degistirilemez !!\n",
    "\n",
    "city_tuple[0] = 'New York'  # you can't assign a value"
   ]
  },
  {
   "cell_type": "code",
   "execution_count": null,
   "metadata": {},
   "outputs": [],
   "source": [
    "city_tuple"
   ]
  },
  {
   "cell_type": "code",
   "execution_count": null,
   "metadata": {},
   "outputs": [],
   "source": [
    "city_1 = list(city_tuple)   # Tuple i listeye cevirip deger assgin ettikten sonra tekrar tuple tipine cevirerek update\n",
    "city_1                      # edebildik.\n",
    "city_1[0] = 'New York'\n",
    "city_tuple = tuple(city_1)\n",
    "city_tuple\n"
   ]
  },
  {
   "cell_type": "code",
   "execution_count": null,
   "metadata": {},
   "outputs": [],
   "source": [
    " # UPDATE TUPLES \n",
    "x = (\"apple\", \"banana\", \"cherry\")  \n",
    "y = list(x)\n",
    "print(type(y))\n",
    "y[1] = \"kiwi\"\n",
    "x = tuple(y)\n",
    "print(x, type(x), sep = '\\n')"
   ]
  },
  {
   "cell_type": "code",
   "execution_count": null,
   "metadata": {},
   "outputs": [],
   "source": [
    "#  Check if Item Exists\n",
    "\n",
    "thistuple = (\"apple\", \"banana\", \"cherry\")\n",
    "if \"apple\" in thistuple:\n",
    "  print(\"Yes, 'apple' is in the fruits tuple\")"
   ]
  },
  {
   "cell_type": "code",
   "execution_count": null,
   "metadata": {},
   "outputs": [],
   "source": [
    " # Tuples may be nested:\n",
    "t = 12345, 54321, 'hello!'\n",
    "u = t, (1, 2, 3, 4, 5)\n",
    "u"
   ]
  },
  {
   "cell_type": "code",
   "execution_count": null,
   "metadata": {},
   "outputs": [],
   "source": [
    "# Loop Tuples\n",
    "thistuple = (\"apple\", \"banana\", \"cherry\")\n",
    "for i in range(len(thistuple)):\n",
    "  print(thistuple[i])"
   ]
  },
  {
   "cell_type": "code",
   "execution_count": null,
   "metadata": {},
   "outputs": [],
   "source": [
    "thistuple = (\"apple\", \"banana\", \"cherry\")\n",
    "for x in thistuple:\n",
    "  print(x)"
   ]
  },
  {
   "cell_type": "code",
   "execution_count": null,
   "metadata": {},
   "outputs": [],
   "source": [
    "# Join Tuples  / Multiply Tuples\n",
    "tuple1 = (\"a\", \"b\" , \"c\")\n",
    "tuple2 = (1, 2, 3)\n",
    "\n",
    "tuple3 = tuple1 + tuple2\n",
    "print(tuple3)"
   ]
  },
  {
   "cell_type": "code",
   "execution_count": null,
   "metadata": {},
   "outputs": [],
   "source": [
    "fruits = (\"apple\", \"banana\", \"cherry\")\n",
    "mytuple = fruits * 2\n",
    "\n",
    "print(mytuple)"
   ]
  },
  {
   "cell_type": "code",
   "execution_count": null,
   "metadata": {},
   "outputs": [],
   "source": [
    "# .count() metodu / tuple.count(value)\n",
    "\n",
    "thistuple = (1, 3, 7, 8, 7, 5, 4, 6, 8, 5)\n",
    "\n",
    "x = thistuple.count(5)\n",
    "\n",
    "print(x)"
   ]
  },
  {
   "cell_type": "code",
   "execution_count": null,
   "metadata": {},
   "outputs": [],
   "source": [
    "# İndex () yöntemi, belirtilen değerin ilk oluşumunu bulur. değer bulunmazsa bir istisna oluşturur.\n",
    "thistuple = (1, 3, 7, 8, 7, 5, 4, 6, 8, 5)\n",
    "\n",
    "x = thistuple.index(8)\n",
    "\n",
    "print(x)"
   ]
  },
  {
   "cell_type": "code",
   "execution_count": 1,
   "metadata": {},
   "outputs": [
    {
     "name": "stdout",
     "output_type": "stream",
     "text": [
      "True\n",
      "False\n",
      "True\n"
     ]
    }
   ],
   "source": [
    "# Membership test in tuple\n",
    "my_tuple = ('a', 'p', 'p', 'l', 'e',)\n",
    "\n",
    "# In operation\n",
    "print('a' in my_tuple)\n",
    "print('b' in my_tuple)\n",
    "\n",
    "# Not in operation\n",
    "print('g' not in my_tuple)"
   ]
  },
  {
   "cell_type": "code",
   "execution_count": 2,
   "metadata": {},
   "outputs": [
    {
     "name": "stdout",
     "output_type": "stream",
     "text": [
      "Hello John\n",
      "Hello Kate\n"
     ]
    }
   ],
   "source": [
    "# Using a for loop to iterate through a tuple\n",
    "for name in ('John', 'Kate'):\n",
    "    print(\"Hello\", name)"
   ]
  },
  {
   "cell_type": "code",
   "execution_count": null,
   "metadata": {},
   "outputs": [],
   "source": []
  }
 ],
 "metadata": {
  "kernelspec": {
   "display_name": "Python 3",
   "language": "python",
   "name": "python3"
  },
  "language_info": {
   "codemirror_mode": {
    "name": "ipython",
    "version": 3
   },
   "file_extension": ".py",
   "mimetype": "text/x-python",
   "name": "python",
   "nbconvert_exporter": "python",
   "pygments_lexer": "ipython3",
   "version": "3.8.5"
  }
 },
 "nbformat": 4,
 "nbformat_minor": 4
}
