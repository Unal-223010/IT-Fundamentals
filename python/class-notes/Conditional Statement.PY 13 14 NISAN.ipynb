{
 "cells": [
  {
   "cell_type": "markdown",
   "metadata": {},
   "source": [
    "    CONTROL FLOW STATEMENTS :  Program akisini kontrol etmemize yarayan syntax yapilaridir. Kod blogumuzun calisip calismamasini bir sarta baglamamiza yardimci olurlar.\n",
    "     \n",
    "     - Conditionals ( KOSULLAR ) \n",
    "     - Loops ( D0NGULER )\n",
    "     \n",
    "     * PHYTON IS A CASE AND IDENTATION SENSITIVE PROGRAMMING LANGUAGE.\n",
    "     \n",
    "     EKSTRA BILGILER ICIN :   https://docs.python.org/3.8/tutorial/controlflow.html?highlight=else#more-control-flow-tools"
   ]
  },
  {
   "cell_type": "markdown",
   "metadata": {},
   "source": [
    "Conditional Statements ( KOSULLU DURUMLAR )\n",
    "\n",
    " Koşullu Durumlar\n",
    "\n",
    "    Artık Pythonda bizi bir ileri seviyeye taşıyacak koşullu durumları öğrenmenin vakti geldi.\n",
    "Koşullu durumlar aslında günlük yaşamda sürekli karşılaştığımız durumlardır. Örneğin havanın yağmurlu olma koşuluna göre şemsiyemizi alırız veya uykumuzun gelme koşuluna göre uyuruz. Aslında programlamada da birçok koşullu durumla karşılaşırız. Örneğin , belli koşullara göre belli işlemleri yaparız , belli koşullara göre yapmayız. İşte bunlar koşullu durumların temeli oluşturur. İsterseniz koşullu durumları yazmaya if blokları ile başlayalım.\n",
    "\n",
    "    If Bloğu\n",
    "\n",
    "if bloğu programımızın içinde herhangi bir yerde belli bir koşulu kontrol edecek isek kullanılan bloklardır.Yazımı şu şekildedir;\n",
    "       \n",
    "       if (koşul): \n",
    "           # if bloğu - Koşul sağlanınca (True) çalışır. Bu hizadaki her işlem bu if bloğuna ait.\n",
    "           # if bloğu - Girintiyle oluşturulur.\n",
    "           Yapılacak İşlemler\n",
    "\n",
    "\n",
    "\n",
    "if bloğu eğer koşul sağlanırsa anlamı taşır. Eğer if kalıbındaki koşul sağlanırsa (True) if bloğu çalıştırılır, koşul sağlanmazsa (False) if bloğu çalıştırılmaz.\n",
    "Hemen bir örnek ile koşullu durumları anlamaya çalışalım.\n",
    "\n",
    "    ELSE BLOGU\n",
    "\n",
    "\n",
    "Else blokları *if koşulu * sağlanmadığı zaman (False) çalışan bloklardır. Kullanımı şu şekildedir;\n",
    "       \n",
    "       else:\n",
    "           # else bloğu - Yukarısındaki herhangi bir if bloğu (veya ilerde göreceğimiz elif bloğu) çalışmadığı\n",
    "           # zaman çalışır. \n",
    "           # else bloğu - Girintiyle oluşturulur.\n",
    "               Yapılacak İşlemler\n",
    "\n",
    " Dikkat ederseniz burada else koşulunun yanına herhangi bir koşul yazmadık. Çünkü zaten else bloğunun çalışması ondan önce gelen diğer koşulların sağlanmamasına bağlı oluyor. İsterseniz, 18 yaş kontrolü örneğini else bloğunu dahil ederek tekrar yazalım.\n",
    " \n",
    "     \n",
    "     \n",
    "    IF -  ELIF - ELSE BLOKLARI \n",
    "    \n",
    "     Önceki konumuzda koşullu durumlarımızla sadece tek bir koşulu kontrol edebiliyorduk. Ancak programlamada bir durum bir çok koşula bağlı olabilir. Örneğin bir hesap makinesi programı yazdığımızda kullanıcının girdiği işlemlere göre koşullarımızı belirleyebiliriz. Bu tür durumlar için if-elif-else kalıplarını kullanırız. Kullanımı şu şekildedir;\n",
    "           \n",
    "           \n",
    "           if koşul: \n",
    "               Yapılacak İşlemler\n",
    "           elif başka bir koşul:\n",
    "               Yapılacak İşlemler\n",
    "           elif başka bir koşul:\n",
    "               Yapılacak İşlemler\n",
    "\n",
    "                //\n",
    "                //\n",
    "           else:\n",
    "               Yapılacak İşlemler \n",
    "\n",
    "\n",
    "Programlarımızda, Kaç tane koşulumuz var ise o kadar elif bloğu oluşturabiliriz. Ayrıca else in yazılması zorunlu değildir. if - elif - else kalıplarında, hangi koşul sağlanırsa program o bloğu çalıştırır ve if-elif-blokları sona erer. Şimdi isterseniz kullanıcıya işlem seçtirdiğimiz bir programla , bu kalıbı öğrenmeye başlayalım.\n",
    " \n",
    " \n",
    "     IF - IF - IF BLOKLARI\n",
    "     \n",
    "     Burada gördüğümüz gibi programımız beklenmedik bir şekilde çalıştı. Çünkü Pythonda programlar her zaman bütün if bloklarını kontrol eder ve koşullar doğruysa bu blokları çalıştırır. İşte böyle not hesaplama gibi programlarda elif kullanmamızın sebebi budur.\n",
    "Koşullu durumlarımız şimdilik bu kadar ! Kurs boyunca programlarımızda birçok yerde koşullu durumları kullanacağız. Bu kısım sonundaki alıştırma videolarını izlerseniz ve ödevleri yaparsanız iyi yol kat etmiş olacaksınız."
   ]
  },
  {
   "cell_type": "code",
   "execution_count": 2,
   "metadata": {},
   "outputs": [
    {
     "name": "stdout",
     "output_type": "stream",
     "text": [
      " It is True\n"
     ]
    }
   ],
   "source": [
    "if True :\n",
    "    print(' It is True')"
   ]
  },
  {
   "cell_type": "code",
   "execution_count": 4,
   "metadata": {},
   "outputs": [
    {
     "name": "stdout",
     "output_type": "stream",
     "text": [
      "It is False\n",
      "afdsf\n"
     ]
    }
   ],
   "source": [
    "if False : \n",
    "    print('It is True')\n",
    "print('It is False')\n",
    "\n",
    "if 1 :\n",
    "    print(\"afdsf\")"
   ]
  },
  {
   "cell_type": "code",
   "execution_count": 5,
   "metadata": {},
   "outputs": [
    {
     "name": "stdout",
     "output_type": "stream",
     "text": [
      "there is still seat to sit\n"
     ]
    }
   ],
   "source": [
    "empty_seat = 14\n",
    "\n",
    "if empty_seat > 3:  # in this case, 14>3=True, so the body will execute\n",
    "    print('there is still seat to sit')"
   ]
  },
  {
   "cell_type": "code",
   "execution_count": 6,
   "metadata": {},
   "outputs": [
    {
     "name": "stdout",
     "output_type": "stream",
     "text": [
      "C'est vrai\n"
     ]
    }
   ],
   "source": [
    "a = 3\n",
    "if a ==3 : \n",
    "    print(\"C'est vrai\")"
   ]
  },
  {
   "cell_type": "code",
   "execution_count": 7,
   "metadata": {},
   "outputs": [
    {
     "name": "stdout",
     "output_type": "stream",
     "text": [
      "ces\n"
     ]
    }
   ],
   "source": [
    "mots = \"nnaitre\"\n",
    "if ( mots == \"nnaitre\" ) :\n",
    "    print('ces')"
   ]
  },
  {
   "cell_type": "code",
   "execution_count": 8,
   "metadata": {},
   "outputs": [
    {
     "name": "stdout",
     "output_type": "stream",
     "text": [
      "2\n",
      "Merhaba\n"
     ]
    }
   ],
   "source": [
    "a = 2 # Blok 1 'e ait kod\n",
    "\n",
    "if (a == 2):\n",
    "    print(a) # Blok 2'ye ait kod\n",
    "print(\"Merhaba\") # Blok 1 ' ait kod"
   ]
  },
  {
   "cell_type": "code",
   "execution_count": 18,
   "metadata": {},
   "outputs": [],
   "source": [
    "minced = True\n",
    "bread = True\n",
    "\n",
    "# Greens\n",
    "lettuce = False \n",
    "pepper = False\n",
    "\n",
    "store = True"
   ]
  },
  {
   "cell_type": "code",
   "execution_count": 22,
   "metadata": {},
   "outputs": [
    {
     "name": "stdout",
     "output_type": "stream",
     "text": [
      "Réessayer\n"
     ]
    }
   ],
   "source": [
    "hamburger = ( minced and store and bread) and (lettuce or pepper)\n",
    "if hamburger :\n",
    "    print('Bon Apetite')\n",
    "else :\n",
    "    print('Réessayer')"
   ]
  },
  {
   "cell_type": "markdown",
   "metadata": {},
   "source": [
    "COMPARISON OPERATORS : These operators return True or False\n",
    "                       Ayni zamanda bool(), all(), any() built-in fonksiyonlari True or False dondurur."
   ]
  },
  {
   "attachments": {
    "image.png": {
     "image/png": "[encoded data removed]"
    }
   },
   "cell_type": "markdown",
   "metadata": {},
   "source": [
    "![image.png](attachment:image.png)"
   ]
  },
  {
   "cell_type": "code",
   "execution_count": 11,
   "metadata": {},
   "outputs": [
    {
     "data": {
      "text/plain": [
       "True"
      ]
     },
     "execution_count": 11,
     "metadata": {},
     "output_type": "execute_result"
    }
   ],
   "source": [
    "'Mehmet' <= 'mehmet'"
   ]
  },
  {
   "cell_type": "code",
   "execution_count": 12,
   "metadata": {},
   "outputs": [
    {
     "data": {
      "text/plain": [
       "True"
      ]
     },
     "execution_count": 12,
     "metadata": {},
     "output_type": "execute_result"
    }
   ],
   "source": [
    "'ahmet' == 'ahmet'"
   ]
  },
  {
   "cell_type": "code",
   "execution_count": 14,
   "metadata": {},
   "outputs": [
    {
     "data": {
      "text/plain": [
       "True"
      ]
     },
     "execution_count": 14,
     "metadata": {},
     "output_type": "execute_result"
    }
   ],
   "source": [
    "12 >= 11"
   ]
  },
  {
   "cell_type": "code",
   "execution_count": 15,
   "metadata": {},
   "outputs": [
    {
     "data": {
      "text/plain": [
       "False"
      ]
     },
     "execution_count": 15,
     "metadata": {},
     "output_type": "execute_result"
    }
   ],
   "source": [
    "124325 != 124325"
   ]
  },
  {
   "cell_type": "code",
   "execution_count": 9,
   "metadata": {},
   "outputs": [
    {
     "name": "stdout",
     "output_type": "stream",
     "text": [
      "is x equal to y?                 : False\n",
      "is x not equal to y?             : True\n",
      "is x less than y?                : True\n",
      "is x greater than y?             : False\n",
      "is x less than or equal to y?    : True\n",
      "is x greater than or equal to y? : False\n"
     ]
    }
   ],
   "source": [
    "x = 6\n",
    "y = 9\n",
    "print (\"is x equal to y?                 :\" , x == y)\n",
    "print (\"is x not equal to y?             :\" , x != y)\n",
    "print (\"is x less than y?                :\" , x < y)\n",
    "print (\"is x greater than y?             :\" , x > y)\n",
    "print (\"is x less than or equal to y?    :\" , x <= y)\n",
    "print (\"is x greater than or equal to y? :\" , x >= y)\n"
   ]
  },
  {
   "cell_type": "code",
   "execution_count": 23,
   "metadata": {},
   "outputs": [
    {
     "name": "stdout",
     "output_type": "stream",
     "text": [
      "nous sommes les mêmes\n"
     ]
    }
   ],
   "source": [
    "premier = set('TWELVE PLUS ONE')\n",
    "deuxime = set('ELEVEN PLUS TWO')\n",
    "\n",
    "if premier == deuxime :\n",
    "    print('nous sommes les mêmes')\n",
    "else : \n",
    "    print('Nous sommes différents')\n"
   ]
  },
  {
   "cell_type": "code",
   "execution_count": 26,
   "metadata": {},
   "outputs": [
    {
     "name": "stdout",
     "output_type": "stream",
     "text": [
      "Enter Yes or No : tes\n",
      "Your entered :  False\n"
     ]
    }
   ],
   "source": [
    "convert = input('Enter Yes or No : ').title().strip() == 'Yes'\n",
    "print('Your entered : ', convert)"
   ]
  },
  {
   "cell_type": "code",
   "execution_count": null,
   "metadata": {},
   "outputs": [],
   "source": [
    "# Yukaridaki kodu tek satirda yazabildik bu sayede hafizadan tasarruf etmis olduk.\n",
    "print('Your entered : ', convert = input('Enter Yes or No : ').title().strip() == 'Yes' )"
   ]
  },
  {
   "cell_type": "code",
   "execution_count": 10,
   "metadata": {},
   "outputs": [
    {
     "ename": "TypeError",
     "evalue": "'<=' not supported between instances of 'str' and 'int'",
     "output_type": "error",
     "traceback": [
      "\u001b[0;31m---------------------------------------------------------------------------\u001b[0m",
      "\u001b[0;31mTypeError\u001b[0m                                 Traceback (most recent call last)",
      "\u001b[0;32m<ipython-input-10-06b7c8f077b3>\u001b[0m in \u001b[0;36m<module>\u001b[0;34m\u001b[0m\n\u001b[1;32m      1\u001b[0m \u001b[0mprice\u001b[0m \u001b[0;34m=\u001b[0m \u001b[0;34m'2200'\u001b[0m\u001b[0;34m\u001b[0m\u001b[0;34m\u001b[0m\u001b[0m\n\u001b[0;32m----> 2\u001b[0;31m \u001b[0;32mif\u001b[0m \u001b[0mprice\u001b[0m \u001b[0;34m<=\u001b[0m \u001b[0;36m2200\u001b[0m \u001b[0;34m:\u001b[0m\u001b[0;34m\u001b[0m\u001b[0;34m\u001b[0m\u001b[0m\n\u001b[0m\u001b[1;32m      3\u001b[0m     \u001b[0mprint\u001b[0m\u001b[0;34m(\u001b[0m\u001b[0;34m'i can afford it'\u001b[0m\u001b[0;34m)\u001b[0m\u001b[0;34m\u001b[0m\u001b[0;34m\u001b[0m\u001b[0m\n\u001b[1;32m      4\u001b[0m \u001b[0;32melse\u001b[0m \u001b[0;34m:\u001b[0m\u001b[0;34m\u001b[0m\u001b[0;34m\u001b[0m\u001b[0m\n\u001b[1;32m      5\u001b[0m     \u001b[0mprint\u001b[0m\u001b[0;34m(\u001b[0m\u001b[0;34m'It is expensive'\u001b[0m\u001b[0;34m)\u001b[0m\u001b[0;34m\u001b[0m\u001b[0;34m\u001b[0m\u001b[0m\n",
      "\u001b[0;31mTypeError\u001b[0m: '<=' not supported between instances of 'str' and 'int'"
     ]
    }
   ],
   "source": [
    "# STR VE INT typelar birbiriyle kiyaslanamaz TypeError hatasi aliriz.\n",
    "price = '2200'\n",
    "if price <= 2200 :\n",
    "    print('i can afford it')\n",
    "else : \n",
    "    print('It is expensive')"
   ]
  },
  {
   "cell_type": "code",
   "execution_count": null,
   "metadata": {},
   "outputs": [],
   "source": [
    "# verb = input(\"Sonu ir ile biten bir fiil yaziniz : \")\n",
    "# if verb.endswith(\"ir\") == \"ir\" :    \n",
    "#     verb = \"is\" + verb[3:]\n",
    "# FRANSIZCA CONJUGASION YAPAN PROGRAM YAZMA DENEMESI"
   ]
  },
  {
   "cell_type": "markdown",
   "metadata": {},
   "source": [
    "if for the ﬁrst one,\n",
    "elif for the rest, up until the ﬁnal (optional),\n",
    "else for anything not caught by the other conditionals.\n",
    "Both if-else and if-elif statements can be nested. Let's see the nested structure on the same movie ticket example."
   ]
  },
  {
   "cell_type": "code",
   "execution_count": null,
   "metadata": {},
   "outputs": [],
   "source": [
    "audience_group = 'kid', 'teen', 'adult'\n",
    "\n",
    "audience = \"teen\"\n",
    "\n",
    "if audience in audience_group:\n",
    "    if audience == \"kid\":\n",
    "        print(\"it is free to go to cinema\")\n",
    "    elif audience == \"teen\":\n",
    "        print(\"discounted price!\")\n",
    "    else: # audience == \"adult\":\n",
    "        print(\"normal price\")\n",
    "else:\n",
    "    print(\"No such audience, stay at your home!\")"
   ]
  },
  {
   "cell_type": "code",
   "execution_count": null,
   "metadata": {},
   "outputs": [],
   "source": [
    "score = int (input(\"Enter your score :\"))\n",
    "\n",
    "if score >= 90:\n",
    "    if score >= 95:\n",
    "        Score_letter=\"A+\"\n",
    "    else:\n",
    "        Score_letter=\"A\"\n",
    "elif score >= 80:\n",
    "    if score >= 85:\n",
    "        Score_letter=\"B+\"\n",
    "    else:\n",
    "        Score_letter=\"B\"\n",
    "else:\n",
    "    Score_letter=\"below B\"\n",
    "\n",
    "print (\"Your degree: %s\" % Score_letter)"
   ]
  },
  {
   "cell_type": "code",
   "execution_count": 7,
   "metadata": {},
   "outputs": [
    {
     "name": "stdout",
     "output_type": "stream",
     "text": [
      "İstanbul büyükşehir belediyesi\n"
     ]
    }
   ],
   "source": [
    "kardiz = \"istanbul büyükşehir belediyesi\"\n",
    "\n",
    "if kardiz.startswith(\"i\"):\n",
    "    kardiz = \"İ\" + kardiz[1:]\n",
    "\n",
    "kardiz = kardiz.capitalize()\n",
    "\n",
    "print(kardiz)"
   ]
  },
  {
   "cell_type": "code",
   "execution_count": null,
   "metadata": {},
   "outputs": [],
   "source": [
    " # Ehliyet alma kosulu sorgulama / yas ve egitim durumu\n",
    "isim = input('Lutfen ismini yaziniz ').strip().title()  \n",
    "yas = int(input('Lutfen yasinizi giriniz : '))\n",
    "e = input('Mezuniyet : ').title().strip()\n",
    "\n",
    "if (yas >= 18) :\n",
    "    if (e == 'Universite' or e == 'Lise') :\n",
    "        print(f'{isim} ehliyet sinavina katilabilirsin')\n",
    "    else :\n",
    "        print(f'{isim} ehliyet sinavi icin egitim durumun yetersiz.')\n",
    "else :\n",
    "    print(f'{isim} sinav icin yasin yetersiz.')    "
   ]
  },
  {
   "cell_type": "code",
   "execution_count": 7,
   "metadata": {},
   "outputs": [
    {
     "ename": "SyntaxError",
     "evalue": "invalid syntax (<ipython-input-7-15995f8ea210>, line 1)",
     "output_type": "error",
     "traceback": [
      "\u001b[0;36m  File \u001b[0;32m\"<ipython-input-7-15995f8ea210>\"\u001b[0;36m, line \u001b[0;32m1\u001b[0m\n\u001b[0;31m    else :\u001b[0m\n\u001b[0m    ^\u001b[0m\n\u001b[0;31mSyntaxError\u001b[0m\u001b[0;31m:\u001b[0m invalid syntax\n"
     ]
    }
   ],
   "source": [
    "else :\n",
    "    print('Sonuc ne olur') "
   ]
  },
  {
   "cell_type": "markdown",
   "metadata": {},
   "source": [
    "Buradaki kod hata verdi çünkü bir else bloğu kendinden önce herhangi bir koşul bloğu yok ise çalışamaz ve Pythonda hataya yol açar. "
   ]
  },
  {
   "cell_type": "code",
   "execution_count": 8,
   "metadata": {},
   "outputs": [
    {
     "name": "stdout",
     "output_type": "stream",
     "text": [
      "Lutfen mail adresinizi yaziniz : DFG\n",
      "Kullanici email adresi yanlis ! \n"
     ]
    }
   ],
   "source": [
    "mail = 'email@gmail.com'\n",
    "parola = 'abf323'\n",
    "\n",
    "adresse_mail = input('Lutfen mail adresinizi yaziniz : ')\n",
    "\n",
    "\n",
    "if (mail == adresse_mail):\n",
    "    password = input('Lufen parolanizi giriniz : ')     # FOR VEYA WHILE DONGUSUNU OGRENINCE KODADA DEGISIKLIK YAP!\n",
    "    if (parola == password) :\n",
    "        print('Giris basarili...')\n",
    "    else :\n",
    "        print('Parolanizi dikkatli giriniz : ')\n",
    "else :\n",
    "    print('Kullanici email adresi yanlis ! ')\n",
    " "
   ]
  },
  {
   "cell_type": "code",
   "execution_count": 9,
   "metadata": {},
   "outputs": [
    {
     "name": "stdout",
     "output_type": "stream",
     "text": [
      "Bir islem seciniz : 1\n",
      "Birinci islemi sectiniz.\n"
     ]
    }
   ],
   "source": [
    "islem = int(input('Bir islem seciniz : '))\n",
    "\n",
    "if islem == 1 :\n",
    "    print('Birinci islemi sectiniz.')\n",
    "elif islem == 2 :\n",
    "    print('Ikinci islemi sectiniz.') # Denendi calisiyor.\n",
    "elif islem == 3 :\n",
    "    print('Ucuncu islemi sectiniz')\n",
    "else :\n",
    "    print('Yapacagin secimin amk')"
   ]
  },
  {
   "cell_type": "markdown",
   "metadata": {},
   "source": [
    "Programlarda else kalıbının kullanılmasına gerek yoktur.Buradaki kodda biz diğer durumlar için sadece opsiyonel bir else bloğu koyduk. Kodumuz else bloğu olmadan da çalışabilecektir. Ancak bu durumda yanlış bir işlem girilirse ekrana herhangi bir şeyin yazılmadığını göreceğiz. Yani, else bloğu kullanmak tamamen size bağlı."
   ]
  },
  {
   "cell_type": "code",
   "execution_count": 10,
   "metadata": {},
   "outputs": [
    {
     "name": "stdout",
     "output_type": "stream",
     "text": [
      "SVP Entre un nombre :234\n",
      "sayiniz cift sayidir\n"
     ]
    }
   ],
   "source": [
    "number = int(input('SVP Entre un nombre :'))\n",
    "if (number % 2 == 0 ) :\n",
    "    print('sayiniz cift sayidir') # Denendi calisiyor.\n",
    "else :\n",
    "    print('sayiniz tek sayidir.')"
   ]
  },
  {
   "cell_type": "markdown",
   "metadata": {},
   "source": [
    "Bir öğrencinin 2 yazılı bir sözlü notunu alıp hesaplanan ortalamaya göre not aralığına karşılık gelen not bilgisini yazdıran python uygulamasını yapınız.\n",
    "\n",
    "0 -24 => 0\n",
    "\n",
    "25-44 => 1\n",
    "\n",
    "45-54 => 2\n",
    "\n",
    "55-69 => 3\n",
    "\n",
    "70-84 => 4\n",
    "\n",
    "85-100 => 5"
   ]
  },
  {
   "cell_type": "code",
   "execution_count": null,
   "metadata": {},
   "outputs": [],
   "source": [
    "not1 = int(input('Ilk sozlu notu : '))\n",
    "not2 = int(input('Ikinci sozlu notu : '))\n",
    "not3 = int(input('Ucuncu sozlu notu : '))\n",
    "\n",
    "ort = (not1 + not2 + not3) / 3\n",
    "\n",
    "if ort >= 85 :\n",
    "    print('5 lik sistemde notunuz : 5')\n",
    "elif (ort >= 70 and ort <85 ) :\n",
    "    print('5 lik sistemde notunuz : 4')\n",
    "elif (ort >=55  and ort <70 ) :\n",
    "    print('5 lik sistemde notunuz : 3') # Denendi  calisiyor.\n",
    "elif (ort >= 45 and ort <55 ) :\n",
    "    print('5 lik sistemde notunuz : 2')\n",
    "elif (ort >= 24 and ort <45 ) :\n",
    "    print('5 lik sistemde notunuz : 1')\n",
    "else : \n",
    "    print('5 lik sistemde notunuz : 0')"
   ]
  },
  {
   "cell_type": "code",
   "execution_count": 3,
   "metadata": {},
   "outputs": [
    {
     "name": "stdout",
     "output_type": "stream",
     "text": [
      "a : 234\n",
      "b : 234\n",
      "c : 234\n",
      "BITTI \n"
     ]
    }
   ],
   "source": [
    "# Girilen 3 sayıyı büyüklük olarak karşılaştıran python uygulaması.\n",
    "a = int(input('a : '))\n",
    "b = int(input('b : '))\n",
    "c = int(input('c : '))\n",
    "\n",
    "if (a > b) and (a > c) :\n",
    "    print('a en buyuk sayidir.')\n",
    "elif (b > a) and (c > b) :\n",
    "    print('b en buyuk sayidir.')\n",
    "elif (c > a) and (c > b) :\n",
    "    print('c en buyuk sayidir.')\n",
    "else :\n",
    "    print('BITTI ')"
   ]
  },
  {
   "cell_type": "markdown",
   "metadata": {},
   "source": [
    "Kullanıcıdan 2 vize (%60) ve final (%40) notunu alıp ortalama hesaplayan python uygulamasını yapınız.\n",
    "\n",
    "Eğer ortalama 50 ve üstündeyse geçti değilse kaldı yazdırın.\n",
    "\n",
    "a-) Ortamalama 50 olsa bile final notu en az 50 olmalıdır.\n",
    "\n",
    "b-) Finalden 70 alındığında ortalamanın önemi olmasın."
   ]
  },
  {
   "cell_type": "code",
   "execution_count": 4,
   "metadata": {},
   "outputs": [
    {
     "name": "stdout",
     "output_type": "stream",
     "text": [
      "a : 23\n",
      "b : 23\n",
      "c : 23\n",
      "Kaldi\n"
     ]
    }
   ],
   "source": [
    "vize1 = int(input('a : '))\n",
    "vize2 = int(input('b : '))\n",
    "final = int(input('c : '))\n",
    "\n",
    "ort = ((vize1 * 0.6) + (vize1 * 0.6) + (final * 0.4)) / 3          # 1. Durum icin gecerli cozum.\n",
    "\n",
    "sonuc = (ort >= 50) and (final >= 50)\n",
    "sonuc = (ort >= 50) or (final >= 70)\n",
    "\n",
    "if ort > 50 :\n",
    "    if final > 50 :\n",
    "        print('Gecti')\n",
    "    else :\n",
    "        print('Final notu dusuk')\n",
    "else :\n",
    "    print('Kaldi')"
   ]
  },
  {
   "cell_type": "code",
   "execution_count": null,
   "metadata": {},
   "outputs": [],
   "source": [
    "vize1 = int(input('a : '))\n",
    "vize2 = int(input('b : '))\n",
    "final = int(input('c : '))\n",
    "\n",
    "ort = ((vize1 * 0.6) + (vize1 * 0.6) + (final * 0.4)) / 3          # 2. Durum icin gecerli cozum.\n",
    "\n",
    "sonuc = (ort >= 50) and (final >= 50)\n",
    "sonuc = (ort >= 50) or (final >= 70)\n"
   ]
  }
 ],
 "metadata": {
  "kernelspec": {
   "display_name": "Python 3",
   "language": "python",
   "name": "python3"
  },
  "language_info": {
   "codemirror_mode": {
    "name": "ipython",
    "version": 3
   },
   "file_extension": ".py",
   "mimetype": "text/x-python",
   "name": "python",
   "nbconvert_exporter": "python",
   "pygments_lexer": "ipython3",
   "version": "3.8.5"
  }
 },
 "nbformat": 4,
 "nbformat_minor": 4
}
